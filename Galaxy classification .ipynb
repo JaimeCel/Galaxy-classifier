{
 "cells": [
  {
   "cell_type": "markdown",
   "id": "516bcb06-67ea-4bb8-b8df-bc8e06a0dacb",
   "metadata": {},
   "source": [
    "# Simple galaxy classification model "
   ]
  },
  {
   "cell_type": "code",
   "execution_count": 16,
   "id": "32dba44b-251c-4c6e-8fc2-a90b27a8e059",
   "metadata": {},
   "outputs": [],
   "source": [
    "import pandas as pd\n",
    "import os\n",
    "import numpy as np\n",
    "from sklearn.model_selection import train_test_split\n",
    "import matplotlib.pyplot as plt\n",
    "from sklearn.ensemble import RandomForestClassifier\n",
    "from sklearn.model_selection import RandomizedSearchCV\n",
    "from sklearn.metrics import classification_report, roc_auc_score,confusion_matrix\n",
    "import seaborn as sns"
   ]
  },
  {
   "cell_type": "markdown",
   "id": "29a387bb-2598-4696-9eb5-a3f4706aa402",
   "metadata": {},
   "source": [
    "In this mini-project, we aim to build a supervised classification model using a Random Forest classifier. Our goal is to classify galaxies as either central or satellite within their respective dark matter halos.\n",
    "\n",
    "A halo is the region surrounding a galaxy’s visible parts, primarily composed of dark matter. Galaxies form within these dark matter halos. Central galaxies typically reside at the center of the halo, while satellite galaxies orbit around the central galaxy. In this project, we will use the properties of galaxies and their halos to train a model that can distinguish between central and satellite galaxies."
   ]
  },
  {
   "cell_type": "code",
   "execution_count": 17,
   "id": "47a78342-097e-4f7d-8310-1dbed0ea6cdd",
   "metadata": {},
   "outputs": [],
   "source": [
    "\n",
    "path='https://drive.google.com/uc?id=1Z9YyuZSNVbWEV0S2HT1GRVama11JNr8R'\n",
    "df=pd.read_csv(path,compression='bz2',header=10)  # Column starts at line 10 rest not needed"
   ]
  },
  {
   "cell_type": "code",
   "execution_count": 18,
   "id": "a0096f5e-c7ab-48ad-8add-0cc742e4b685",
   "metadata": {},
   "outputs": [
    {
     "data": {
      "text/html": [
       "<div>\n",
       "<style scoped>\n",
       "    .dataframe tbody tr th:only-of-type {\n",
       "        vertical-align: middle;\n",
       "    }\n",
       "\n",
       "    .dataframe tbody tr th {\n",
       "        vertical-align: top;\n",
       "    }\n",
       "\n",
       "    .dataframe thead th {\n",
       "        text-align: right;\n",
       "    }\n",
       "</style>\n",
       "<table border=\"1\" class=\"dataframe\">\n",
       "  <thead>\n",
       "    <tr style=\"text-align: right;\">\n",
       "      <th></th>\n",
       "      <th>unique_halo_id</th>\n",
       "      <th>z_cgal</th>\n",
       "      <th>flag_central</th>\n",
       "      <th>lmhalo</th>\n",
       "      <th>gr_gal</th>\n",
       "      <th>lsfr</th>\n",
       "      <th>metallicity</th>\n",
       "      <th>lml_r</th>\n",
       "      <th>lmstellar</th>\n",
       "    </tr>\n",
       "  </thead>\n",
       "  <tbody>\n",
       "    <tr>\n",
       "      <th>0</th>\n",
       "      <td>211412867</td>\n",
       "      <td>1.01901</td>\n",
       "      <td>0</td>\n",
       "      <td>11.2311</td>\n",
       "      <td>0.3215</td>\n",
       "      <td>-0.036</td>\n",
       "      <td>9.113</td>\n",
       "      <td>-0.240</td>\n",
       "      <td>8.935</td>\n",
       "    </tr>\n",
       "    <tr>\n",
       "      <th>1</th>\n",
       "      <td>315524816</td>\n",
       "      <td>0.44484</td>\n",
       "      <td>0</td>\n",
       "      <td>10.7868</td>\n",
       "      <td>0.8521</td>\n",
       "      <td>-0.932</td>\n",
       "      <td>8.312</td>\n",
       "      <td>0.057</td>\n",
       "      <td>8.455</td>\n",
       "    </tr>\n",
       "    <tr>\n",
       "      <th>2</th>\n",
       "      <td>312596881</td>\n",
       "      <td>0.28544</td>\n",
       "      <td>0</td>\n",
       "      <td>10.6506</td>\n",
       "      <td>0.4458</td>\n",
       "      <td>-1.281</td>\n",
       "      <td>8.304</td>\n",
       "      <td>-0.104</td>\n",
       "      <td>8.028</td>\n",
       "    </tr>\n",
       "    <tr>\n",
       "      <th>3</th>\n",
       "      <td>309925768</td>\n",
       "      <td>0.41121</td>\n",
       "      <td>1</td>\n",
       "      <td>10.9239</td>\n",
       "      <td>0.8137</td>\n",
       "      <td>-1.003</td>\n",
       "      <td>8.755</td>\n",
       "      <td>0.119</td>\n",
       "      <td>8.680</td>\n",
       "    </tr>\n",
       "    <tr>\n",
       "      <th>4</th>\n",
       "      <td>3663710</td>\n",
       "      <td>0.22479</td>\n",
       "      <td>1</td>\n",
       "      <td>13.9589</td>\n",
       "      <td>0.6660</td>\n",
       "      <td>-1.401</td>\n",
       "      <td>8.384</td>\n",
       "      <td>0.291</td>\n",
       "      <td>8.705</td>\n",
       "    </tr>\n",
       "  </tbody>\n",
       "</table>\n",
       "</div>"
      ],
      "text/plain": [
       "   unique_halo_id   z_cgal  flag_central   lmhalo  gr_gal   lsfr  metallicity  \\\n",
       "0       211412867  1.01901             0  11.2311  0.3215 -0.036        9.113   \n",
       "1       315524816  0.44484             0  10.7868  0.8521 -0.932        8.312   \n",
       "2       312596881  0.28544             0  10.6506  0.4458 -1.281        8.304   \n",
       "3       309925768  0.41121             1  10.9239  0.8137 -1.003        8.755   \n",
       "4         3663710  0.22479             1  13.9589  0.6660 -1.401        8.384   \n",
       "\n",
       "   lml_r  lmstellar  \n",
       "0 -0.240      8.935  \n",
       "1  0.057      8.455  \n",
       "2 -0.104      8.028  \n",
       "3  0.119      8.680  \n",
       "4  0.291      8.705  "
      ]
     },
     "execution_count": 18,
     "metadata": {},
     "output_type": "execute_result"
    }
   ],
   "source": [
    "df.head()"
   ]
  },
  {
   "cell_type": "markdown",
   "id": "c57fa72f-01c2-4df9-a8b3-66089ca1d5e3",
   "metadata": {},
   "source": [
    "Check for null values"
   ]
  },
  {
   "cell_type": "code",
   "execution_count": 4,
   "id": "6d86b33a-2f82-4dd7-b627-79ba65febf82",
   "metadata": {},
   "outputs": [
    {
     "data": {
      "text/plain": [
       "unique_halo_id    0\n",
       "z_cgal            0\n",
       "flag_central      0\n",
       "lmhalo            0\n",
       "gr_gal            0\n",
       "lsfr              0\n",
       "metallicity       0\n",
       "lml_r             0\n",
       "lmstellar         0\n",
       "dtype: int64"
      ]
     },
     "execution_count": 4,
     "metadata": {},
     "output_type": "execute_result"
    }
   ],
   "source": [
    "df = df.apply(pd.to_numeric, errors='coerce')\n",
    "df1=df.isnull().sum()\n",
    "df1"
   ]
  },
  {
   "cell_type": "code",
   "execution_count": 5,
   "id": "bae6d527-662c-4616-9746-d33ad991c69a",
   "metadata": {},
   "outputs": [
    {
     "data": {
      "text/plain": [
       "unique_halo_id\n",
       "23625651     37\n",
       "3166978      34\n",
       "125026       34\n",
       "489625       29\n",
       "3397817      28\n",
       "             ..\n",
       "12101710      1\n",
       "11605232      1\n",
       "52721643      1\n",
       "52722318      1\n",
       "129239690     1\n",
       "Name: count, Length: 1920758, dtype: int64"
      ]
     },
     "execution_count": 5,
     "metadata": {},
     "output_type": "execute_result"
    }
   ],
   "source": [
    "df['unique_halo_id'].value_counts()"
   ]
  },
  {
   "cell_type": "markdown",
   "id": "8e8dc6de-2094-4469-b537-1923ad9659a6",
   "metadata": {},
   "source": [
    "As we can see big halos have a large amount of galaxies. We will tke this into account when performing the train test split."
   ]
  },
  {
   "cell_type": "markdown",
   "id": "56c7b5b9-2bf5-456a-807b-6f808227b7a4",
   "metadata": {},
   "source": [
    "Tried to take out redundant features like absolute magnitude, aparent magnitude , color filters and some features that has low importance (with prior knowledge) about our model like galaxies velocities, peculiar velocities,etc. Tried to compact into the most fundamental features.\n",
    "-z_cgal: redshift\n",
    "-metallicity: metallicity in units 12+logO/H\n",
    "-Imhalo: log base 10 of FoF halo mass\n",
    "-lml_r: logarithm of the stellar_mas/luminosity ratio in the r SDSS band\n",
    "-lsfr: ogarithm of star formation rate in (Msolar/h)/year\n",
    "-gr_gal: (g-r) rest-frame at z=0 without evolutionary correction(color in the g-r band)\n"
   ]
  },
  {
   "cell_type": "code",
   "execution_count": 6,
   "id": "65aaba60-797a-4198-8771-f3104e6e812b",
   "metadata": {},
   "outputs": [],
   "source": [
    "features = ['z_cgal', 'lmhalo','gr_gal', 'lsfr', 'metallicity', 'lml_r', 'lmstellar']\n",
    "target = 'flag_central'\n",
    "\n",
    "# Split halo IDs\n",
    "halo_ids = df['unique_halo_id'].unique()\n",
    "train_halos, test_halos = train_test_split(halo_ids, test_size=0.2, random_state=42)\n",
    "\n",
    "# Assign galaxies to train/test based on halo\n",
    "train_df = df[df['unique_halo_id'].isin(train_halos)]\n",
    "test_df  = df[df['unique_halo_id'].isin(test_halos)]\n",
    "\n",
    "X_train = train_df[features]\n",
    "y_train = train_df[target]\n",
    "X_test  = test_df[features]\n",
    "y_test  = test_df[target]\n"
   ]
  },
  {
   "cell_type": "markdown",
   "id": "39a4a377-2a28-41c6-8591-6e2aab65d47a",
   "metadata": {},
   "source": [
    "Before splitting the data into training and test sets, it is important to consider that galaxies belonging to the same halo share certain properties. If galaxies from the same halo appear in both the training and test sets, the model may overfit, learning halo-specific features rather than general patterns.\n",
    "\n",
    "To prevent this, we ensure that all galaxies from a given halo are assigned to the same set. In other words, galaxies in the training set and test set come from different halos, so the model is tested on halos it has never seen before."
   ]
  },
  {
   "cell_type": "code",
   "execution_count": 10,
   "id": "0e0980ad-2b25-45f0-b6ba-7de87decc7cf",
   "metadata": {},
   "outputs": [],
   "source": [
    "sample_size=100000\n",
    "X_train_sub = X_train.sample(n=sample_size, random_state=42)\n",
    "y_train_sub = y_train.loc[X_train_sub.index]"
   ]
  },
  {
   "cell_type": "code",
   "execution_count": 11,
   "id": "782049e2-fc27-43f3-86e1-461673d0fe18",
   "metadata": {},
   "outputs": [
    {
     "name": "stdout",
     "output_type": "stream",
     "text": [
      "Fitting 3 folds for each of 20 candidates, totalling 60 fits\n",
      "[CV] END max_depth=30, max_features=0.8, min_samples_leaf=10, min_samples_split=5, n_estimators=100; total time=  32.9s\n",
      "[CV] END max_depth=30, max_features=0.8, min_samples_leaf=10, min_samples_split=5, n_estimators=100; total time=  34.1s\n",
      "[CV] END max_depth=30, max_features=0.8, min_samples_leaf=10, min_samples_split=5, n_estimators=100; total time=  34.0s\n",
      "[CV] END max_depth=None, max_features=0.8, min_samples_leaf=1, min_samples_split=2, n_estimators=700; total time= 4.4min\n",
      "[CV] END max_depth=None, max_features=0.8, min_samples_leaf=1, min_samples_split=2, n_estimators=700; total time= 4.8min\n",
      "[CV] END max_depth=None, max_features=0.8, min_samples_leaf=1, min_samples_split=2, n_estimators=700; total time= 4.3min\n",
      "[CV] END max_depth=10, max_features=0.8, min_samples_leaf=1, min_samples_split=2, n_estimators=100; total time=  25.4s\n",
      "[CV] END max_depth=10, max_features=0.8, min_samples_leaf=1, min_samples_split=2, n_estimators=100; total time=  25.6s\n",
      "[CV] END max_depth=10, max_features=0.8, min_samples_leaf=1, min_samples_split=2, n_estimators=100; total time=  25.1s\n",
      "[CV] END max_depth=None, max_features=sqrt, min_samples_leaf=10, min_samples_split=5, n_estimators=500; total time= 1.3min\n",
      "[CV] END max_depth=None, max_features=sqrt, min_samples_leaf=10, min_samples_split=5, n_estimators=500; total time= 1.3min\n",
      "[CV] END max_depth=None, max_features=sqrt, min_samples_leaf=10, min_samples_split=5, n_estimators=500; total time= 1.3min\n",
      "[CV] END max_depth=30, max_features=log2, min_samples_leaf=10, min_samples_split=10, n_estimators=100; total time=  14.9s\n",
      "[CV] END max_depth=30, max_features=log2, min_samples_leaf=10, min_samples_split=10, n_estimators=100; total time=  15.0s\n",
      "[CV] END max_depth=30, max_features=log2, min_samples_leaf=10, min_samples_split=10, n_estimators=100; total time=  14.9s\n",
      "[CV] END max_depth=20, max_features=log2, min_samples_leaf=5, min_samples_split=10, n_estimators=700; total time= 1.8min\n",
      "[CV] END max_depth=20, max_features=log2, min_samples_leaf=5, min_samples_split=10, n_estimators=700; total time= 1.7min\n",
      "[CV] END max_depth=20, max_features=log2, min_samples_leaf=5, min_samples_split=10, n_estimators=700; total time= 1.8min\n",
      "[CV] END max_depth=30, max_features=0.8, min_samples_leaf=5, min_samples_split=5, n_estimators=500; total time= 2.9min\n",
      "[CV] END max_depth=30, max_features=0.8, min_samples_leaf=5, min_samples_split=5, n_estimators=500; total time= 2.9min\n",
      "[CV] END max_depth=30, max_features=0.8, min_samples_leaf=5, min_samples_split=5, n_estimators=500; total time= 2.9min\n",
      "[CV] END max_depth=10, max_features=log2, min_samples_leaf=1, min_samples_split=10, n_estimators=500; total time=  56.7s\n",
      "[CV] END max_depth=10, max_features=log2, min_samples_leaf=1, min_samples_split=10, n_estimators=500; total time=  58.5s\n",
      "[CV] END max_depth=10, max_features=log2, min_samples_leaf=1, min_samples_split=10, n_estimators=500; total time=  57.8s\n",
      "[CV] END max_depth=10, max_features=0.8, min_samples_leaf=5, min_samples_split=2, n_estimators=700; total time= 3.1min\n",
      "[CV] END max_depth=10, max_features=0.8, min_samples_leaf=5, min_samples_split=2, n_estimators=700; total time= 3.0min\n",
      "[CV] END max_depth=10, max_features=0.8, min_samples_leaf=5, min_samples_split=2, n_estimators=700; total time= 3.0min\n",
      "[CV] END max_depth=10, max_features=log2, min_samples_leaf=1, min_samples_split=5, n_estimators=100; total time=  11.9s\n",
      "[CV] END max_depth=10, max_features=log2, min_samples_leaf=1, min_samples_split=5, n_estimators=100; total time=  11.6s\n",
      "[CV] END max_depth=10, max_features=log2, min_samples_leaf=1, min_samples_split=5, n_estimators=100; total time=  11.6s\n",
      "[CV] END max_depth=10, max_features=log2, min_samples_leaf=1, min_samples_split=10, n_estimators=300; total time=  35.3s\n",
      "[CV] END max_depth=10, max_features=log2, min_samples_leaf=1, min_samples_split=10, n_estimators=300; total time=  35.3s\n",
      "[CV] END max_depth=10, max_features=log2, min_samples_leaf=1, min_samples_split=10, n_estimators=300; total time=  34.0s\n",
      "[CV] END max_depth=None, max_features=log2, min_samples_leaf=10, min_samples_split=10, n_estimators=500; total time= 1.3min\n",
      "[CV] END max_depth=None, max_features=log2, min_samples_leaf=10, min_samples_split=10, n_estimators=500; total time= 1.2min\n",
      "[CV] END max_depth=None, max_features=log2, min_samples_leaf=10, min_samples_split=10, n_estimators=500; total time= 1.2min\n",
      "[CV] END max_depth=10, max_features=0.8, min_samples_leaf=5, min_samples_split=5, n_estimators=700; total time= 2.7min\n",
      "[CV] END max_depth=10, max_features=0.8, min_samples_leaf=5, min_samples_split=5, n_estimators=700; total time= 2.7min\n",
      "[CV] END max_depth=10, max_features=0.8, min_samples_leaf=5, min_samples_split=5, n_estimators=700; total time= 2.8min\n",
      "[CV] END max_depth=30, max_features=sqrt, min_samples_leaf=1, min_samples_split=10, n_estimators=500; total time= 1.3min\n",
      "[CV] END max_depth=30, max_features=sqrt, min_samples_leaf=1, min_samples_split=10, n_estimators=500; total time= 1.3min\n",
      "[CV] END max_depth=30, max_features=sqrt, min_samples_leaf=1, min_samples_split=10, n_estimators=500; total time= 1.3min\n",
      "[CV] END max_depth=None, max_features=log2, min_samples_leaf=1, min_samples_split=2, n_estimators=700; total time= 1.9min\n",
      "[CV] END max_depth=None, max_features=log2, min_samples_leaf=1, min_samples_split=2, n_estimators=700; total time= 1.9min\n",
      "[CV] END max_depth=None, max_features=log2, min_samples_leaf=1, min_samples_split=2, n_estimators=700; total time= 1.9min\n",
      "[CV] END max_depth=10, max_features=log2, min_samples_leaf=10, min_samples_split=5, n_estimators=300; total time=  32.5s\n",
      "[CV] END max_depth=10, max_features=log2, min_samples_leaf=10, min_samples_split=5, n_estimators=300; total time=  34.1s\n",
      "[CV] END max_depth=10, max_features=log2, min_samples_leaf=10, min_samples_split=5, n_estimators=300; total time=  33.4s\n",
      "[CV] END max_depth=30, max_features=log2, min_samples_leaf=5, min_samples_split=10, n_estimators=500; total time= 1.3min\n",
      "[CV] END max_depth=30, max_features=log2, min_samples_leaf=5, min_samples_split=10, n_estimators=500; total time= 1.4min\n",
      "[CV] END max_depth=30, max_features=log2, min_samples_leaf=5, min_samples_split=10, n_estimators=500; total time= 1.4min\n",
      "[CV] END max_depth=None, max_features=0.8, min_samples_leaf=1, min_samples_split=2, n_estimators=100; total time=  37.5s\n",
      "[CV] END max_depth=None, max_features=0.8, min_samples_leaf=1, min_samples_split=2, n_estimators=100; total time=  37.4s\n",
      "[CV] END max_depth=None, max_features=0.8, min_samples_leaf=1, min_samples_split=2, n_estimators=100; total time=  41.6s\n",
      "[CV] END max_depth=None, max_features=sqrt, min_samples_leaf=1, min_samples_split=10, n_estimators=300; total time=  57.2s\n",
      "[CV] END max_depth=None, max_features=sqrt, min_samples_leaf=1, min_samples_split=10, n_estimators=300; total time=  57.2s\n",
      "[CV] END max_depth=None, max_features=sqrt, min_samples_leaf=1, min_samples_split=10, n_estimators=300; total time=  56.9s\n",
      "[CV] END max_depth=20, max_features=log2, min_samples_leaf=10, min_samples_split=5, n_estimators=100; total time=  17.1s\n",
      "[CV] END max_depth=20, max_features=log2, min_samples_leaf=10, min_samples_split=5, n_estimators=100; total time=  16.7s\n",
      "[CV] END max_depth=20, max_features=log2, min_samples_leaf=10, min_samples_split=5, n_estimators=100; total time=  17.1s\n",
      "Best hyperparameters: {'n_estimators': 700, 'min_samples_split': 2, 'min_samples_leaf': 1, 'max_features': 0.8, 'max_depth': None}\n",
      "\n",
      "Classification Report:\n",
      "               precision    recall  f1-score   support\n",
      "\n",
      "           0       0.94      0.99      0.97    257376\n",
      "           1       0.98      0.89      0.93    132857\n",
      "\n",
      "    accuracy                           0.96    390233\n",
      "   macro avg       0.96      0.94      0.95    390233\n",
      "weighted avg       0.96      0.96      0.95    390233\n",
      "\n",
      "ROC-AUC: 0.98275653026627\n"
     ]
    }
   ],
   "source": [
    "rf = RandomForestClassifier(\n",
    "    n_jobs=1,\n",
    "    random_state=42,\n",
    "    class_weight='balanced'   # handles class imbalance\n",
    ")\n",
    "\n",
    "# 2. Define hyperparameter search space\n",
    "param_dist = {\n",
    "    'n_estimators': [100, 300, 500, 700],\n",
    "    'max_depth': [None, 10, 20, 30],\n",
    "    'max_features': ['sqrt', 'log2', 0.8],\n",
    "    'min_samples_split': [2, 5, 10],\n",
    "    'min_samples_leaf': [1, 5, 10]\n",
    "}\n",
    "\n",
    "# 3. RandomizedSearchCV setup\n",
    "rs = RandomizedSearchCV(\n",
    "    estimator=rf,\n",
    "    param_distributions=param_dist,\n",
    "    n_iter=20,             # number of random combinations to try\n",
    "    cv=3,                  # 3-fold cross-validation\n",
    "    scoring='roc_auc',     # better than accuracy for imbalance\n",
    "    verbose=2,\n",
    "    random_state=42,\n",
    "    n_jobs=1\n",
    ")\n",
    "\n",
    "# 4. Fit on TRAIN set\n",
    "rs.fit(X_train_sub, y_train_sub)\n",
    "\n",
    "# 5. Best parameters\n",
    "print(\"Best hyperparameters:\", rs.best_params_)\n",
    "\n",
    "# 6. Evaluate on TEST set\n",
    "y_pred = rs.predict(X_test)\n",
    "y_prob = rs.predict_proba(X_test)[:, 1]\n",
    "\n",
    "print(\"\\nClassification Report:\\n\", classification_report(y_test, y_pred))\n",
    "print(\"ROC-AUC:\", roc_auc_score(y_test, y_prob))"
   ]
  },
  {
   "cell_type": "markdown",
   "id": "876206c9-0233-41c3-946c-a3b70f7f3bb8",
   "metadata": {},
   "source": [
    "To find the best hyperparameters for our model, we used RandomizedSearchCV. Since our dataset is very large, testing every possible combination of hyperparameters (as in a full grid search) would be computationally impossible.\n",
    "\n",
    "RandomizedSearchCV solves this by sampling a fixed number of random hyperparameter combinations, which significantly reduces computation time. However, due to the size of our dataset, we still needed to use a subsample to make the computation manageable since our dataset has around 4 million galaxies.\n",
    "\n",
    "I took the 100000 samples computation.(it takes a lot around 30 min). you can get reasonable results with 1000 and 10000 samples as well.\n",
    "\n",
    "For scoring, we chose ROC AUC, a performance metric that measures the model’s ability to distinguish between classes. It is especially useful when the classes are highly imbalanced. We used ROC AUC to select the best-performing model and to guide hyperparameter tuning.\n",
    "\n"
   ]
  },
  {
   "cell_type": "code",
   "execution_count": 20,
   "id": "a959bbd4-ce2a-49c6-8824-2a6906bda989",
   "metadata": {},
   "outputs": [
    {
     "data": {
      "image/png": "[encoded data removed]",
      "text/plain": [
       "<Figure size 640x480 with 2 Axes>"
      ]
     },
     "metadata": {},
     "output_type": "display_data"
    }
   ],
   "source": [
    "conf_matrix=confusion_matrix(y_test,y_pred)\n",
    "sns.heatmap(conf_matrix, annot=True, fmt=\"d\", cmap=\"Blues\", xticklabels=['Central','Satellite'], yticklabels=['Central','Satellite'])\n",
    "plt.xlabel(\"Predicted\")\n",
    "plt.ylabel(\"Actual\")\n",
    "plt.show()"
   ]
  },
  {
   "cell_type": "markdown",
   "id": "70f4f23f-cb6b-4b49-a644-58f2c1cf624c",
   "metadata": {},
   "source": [
    "Our classification model shows a good result and strong performance. For the central class (0) the model achieve a precision of 0.94 and recall of 0.99. For the satelite class the precision is 0.98 and the recall 0.89 which shows how robut is our model. Our ROC AUC metric is giving us 0.98 which tell us that our algoritm separation classes is excellent. \n",
    "\n",
    "The lower recall for satellite galaxies indicates that the model more often misclassifies actual satellites as central galaxies. We can see this on the confusion matrix.\n",
    "\n"
   ]
  },
  {
   "cell_type": "code",
   "execution_count": 21,
   "id": "93d37aaa-dcdd-46b7-917d-8d772cfd9335",
   "metadata": {},
   "outputs": [
    {
     "data": {
      "text/plain": [
       "array([0.03163366, 0.48370006, 0.08612643, 0.04804142, 0.03433875,\n",
       "       0.09662544, 0.21953424])"
      ]
     },
     "execution_count": 21,
     "metadata": {},
     "output_type": "execute_result"
    }
   ],
   "source": [
    "importances = rs.best_estimator_.feature_importances_\n",
    "importances"
   ]
  },
  {
   "cell_type": "code",
   "execution_count": 22,
   "id": "85556412-c892-402b-9e7b-2fa7e5e167f1",
   "metadata": {},
   "outputs": [
    {
     "data": {
      "text/plain": [
       "<Axes: xlabel='feature', ylabel='importances'>"
      ]
     },
     "execution_count": 22,
     "metadata": {},
     "output_type": "execute_result"
    },
    {
     "data": {
      "image/png": "[encoded data removed]",
      "text/plain": [
       "<Figure size 1000x600 with 1 Axes>"
      ]
     },
     "metadata": {},
     "output_type": "display_data"
    }
   ],
   "source": [
    "features_importances=pd.DataFrame({'feature':features,'importances': importances})\n",
    "plt.figure(figsize=(10,6))\n",
    "sns.barplot(data=features_importances,x='feature',y='importances')\n",
    "                                  \n",
    "\n"
   ]
  },
  {
   "cell_type": "markdown",
   "id": "54d85af8-0f41-40e2-bcd6-edf2bea9ad6f",
   "metadata": {},
   "source": [
    "The most important feature is the mass of the halo in which the galaxy resides. This makes sense, as a more massive halo can host more satellite galaxies, which explains why its importance is approximately 0.5. The next most important feature for classification is the mass of the galaxy itself; more massive galaxies tend to occupy the center of the halo. Other features, such as color or the mass-to-light ratio, have lower importance, around 0.1. Finally, some features, like redshift, metallicity, and star formation rate, have importance below 0.05, indicating they contribute very little to the classification, so the result without them would be valid as well."
   ]
  },
  {
   "cell_type": "markdown",
   "id": "5986958f-d618-4393-b121-eb3dc75bea5e",
   "metadata": {},
   "source": [
    "A potential future improvement would be to run the model on the full dataset of around 2 million galaxies and to explore adding more features that could help reduce the misclassification of satellite galaxies as central ones.Others models could be used like gradient boosting or going into neural networks.
\n",
    "\n",
    "\n",
    "Data source: https://cosmohub.pic.es/"
   ]
  }
 ],
 "metadata": {
  "kernelspec": {
   "display_name": "Python 3 (ipykernel)",
   "language": "python",
   "name": "python3"
  },
  "language_info": {
   "codemirror_mode": {
    "name": "ipython",
    "version": 3
   },
   "file_extension": ".py",
   "mimetype": "text/x-python",
   "name": "python",
   "nbconvert_exporter": "python",
   "pygments_lexer": "ipython3",
   "version": "3.13.5"
  }
 },
 "nbformat": 4,
 "nbformat_minor": 5
}
